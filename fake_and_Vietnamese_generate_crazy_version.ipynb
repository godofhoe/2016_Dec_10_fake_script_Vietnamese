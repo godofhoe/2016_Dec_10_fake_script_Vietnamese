{
 "cells": [
  {
   "cell_type": "markdown",
   "metadata": {},
   "source": [
    "## 從字庫裡面把字隨機挑出來組成二字詞或三字詞，然後強迫他們滿足Zipf's law，之後用這些滿足Zipf's law 的詞組成文本"
   ]
  },
  {
   "cell_type": "code",
   "execution_count": 3,
   "metadata": {
    "collapsed": true
   },
   "outputs": [],
   "source": [
    "import random \n",
    "import bisect \n",
    "import math \n",
    "from functools import reduce\n",
    "import numpy as np\n",
    "import pandas as pd\n",
    "import matplotlib.pyplot as plt\n",
    "from count import *\n",
    "#from zipfgen import ZipfGenerator\n",
    "%matplotlib inline"
   ]
  },
  {
   "cell_type": "code",
   "execution_count": 4,
   "metadata": {
    "collapsed": true
   },
   "outputs": [],
   "source": [
    "class ZipfGenerator: \n",
    "    \"\"\"\n",
    "    ZipfGenerator is an immutable type representing a Zipf probability \n",
    "    nass function\n",
    "    with patameters alpha and n. \n",
    "    \n",
    "    Adapted from codes copid form the flollowing online resource:\n",
    "    \n",
    "    http://stackoverflow.com/questions/1366984/\n",
    "    generate-random-numbers-distributed-by-zipf/\n",
    "    8788662#8788662\n",
    "\n",
    "    \"\"\"\n",
    "\n",
    "    \n",
    "    def __init__(self, n, alpha): \n",
    "        \"\"\"Ininitialize a Zipf CDF.\n",
    "         Paramerters\n",
    "         n: int \n",
    "            n >= 0\n",
    "         \n",
    "         alpha: float \n",
    "            alpha >= 1\n",
    "        \"\"\"\n",
    "        # Calculate Zeta values from 1 to n: \n",
    "        assert n >= 0 and alpha >= 1.0\n",
    "        assert int(n) == n \n",
    "        self.n = n\n",
    "        self.alpha = alpha\n",
    "        tmp = [1. / (math.pow(float(i), alpha)) for i in range(1, n+1)] \n",
    "        zeta = reduce(lambda sums, x: sums + [sums[-1] + x], tmp, [0]) \n",
    "\n",
    "        # Store the translation map: \n",
    "        # Abstract function: representing the cumulative distribution function \n",
    "        # of a Zipf pmf \n",
    "        self.distMap = [x / zeta[-1] for x in zeta] \n",
    "\n",
    "    def next(self): \n",
    "        \"\"\"Yield an integer between 0 and n, with probability governed by \n",
    "        Zipf distribution function specified by n and alpha.\n",
    "        \"\"\"\n",
    "        # Take a uniform 0-1 pseudo-random value: \n",
    "        u = random.random()  \n",
    "\n",
    "        # Translate the Zipf variable: \n",
    "        return bisect.bisect(self.distMap, u) - 1\n",
    "    \n",
    "    def __get_alpha(self):\n",
    "        ans = self.alpha\n",
    "        return ans\n",
    "    \n",
    "    def __get_n(self):\n",
    "        ans = self.n\n",
    "        return ans\n",
    "\n"
   ]
  },
  {
   "cell_type": "code",
   "execution_count": 5,
   "metadata": {
    "collapsed": false
   },
   "outputs": [],
   "source": [
    "def read_file_generate_fake(char_num = 2, out_file =  'fake1.txt', sample_word_num = 8000,\n",
    "                            num_word_in_fake_scrip = 15000, \n",
    "                            alpha = 1.00001, noun = False):\n",
    "    \"\"\"Read \"roc2.txt\" file, and then generate a fake script satisfying Zipfs' law. All the words in \n",
    "    the output script share the same lenth char_num\n",
    "    \"\"\"\n",
    "    SAMPLE_WORD_NUM = sample_word_num\n",
    "    ALPHA = alpha\n",
    "    NUM_WORD_IN_NOV = num_word_in_fake_scrip\n",
    "    OUTPUT_FILE_NAME = out_file\n",
    "    NOUN = noun\n",
    "    CHAR_NUM = char_num\n",
    "    \n",
    "    zipf_gen =  ZipfGenerator(SAMPLE_WORD_NUM,ALPHA)\n",
    "    f =  open(\"roc2.txt\",\"r\")\n",
    "\n",
    "    world_list = []\n",
    "    \n",
    "    for line in f:\n",
    "        line_split = line.split(\"\\t\")\n",
    "        if NOUN:\n",
    "            if 'N' in line_split[4]:\n",
    "                world_list.append(line_split[3])\n",
    "        else:\n",
    "            #if len(line_split[3]) == CHAR_NUM:\n",
    "                world_list.append(line_split[3])\n",
    "\n",
    "    f.close()\n",
    "    \n",
    "    for item in world_list:\n",
    "        if item == \" \":\n",
    "            world_list.remove(item)\n",
    "    #######################################\n",
    "    ###these codes are optional \n",
    "    \n",
    "    tmp_list = []\n",
    "    for item in world_list:\n",
    "        for e in list(item):\n",
    "            tmp_list.append(e)\n",
    "    random.shuffle(tmp_list)\n",
    "    list_2 = []\n",
    "    tmp = ''\n",
    "    for e in tmp_list:\n",
    "        tmp = tmp + e\n",
    "        if len(tmp) == char_num:\n",
    "            list_2.append(tmp)\n",
    "            tmp = ''\n",
    "    \n",
    "    world_list = list_2\n",
    "\n",
    "    print(\"words in a corpus: \" ,len(world_list))\n",
    "    \n",
    "    \n",
    "    #######################################\n",
    "\n",
    "\n",
    "    print(\"A corpus is successfully loaded.\")\n",
    "    \n",
    "    random.shuffle(world_list)\n",
    "    small_world_list = world_list[-SAMPLE_WORD_NUM:]\n",
    "    target_string_list = []\n",
    "\n",
    "    for i in range(NUM_WORD_IN_NOV):\n",
    "        num = zipf_gen.next()\n",
    "        w = small_world_list[num]\n",
    "        target_string_list.append(w+\" \")\n",
    "        \n",
    "    f2 = open(OUTPUT_FILE_NAME , 'w')\n",
    "\n",
    "    word_count = 0\n",
    "    for item in target_string_list:\n",
    "        if word_count < 20:\n",
    "            f2.write(item)\n",
    "            word_count += 1\n",
    "        else:\n",
    "            word_count = 0\n",
    "            f2.write(item+\"\\n\")\n",
    "    f2.close()\n",
    "    print(\"A fake script is successfully created !\")\n",
    "    print(\"--------------------\")\n",
    "    return None"
   ]
  },
  {
   "cell_type": "markdown",
   "metadata": {},
   "source": [
    "## 改動不同的參數以產生你想要的文本\n",
    "#### 參數解釋：\n",
    "* char_num: 假文本裡面每個單詞的字數\n",
    "* out_file: 輸出的假文本的檔名\n",
    "* sample_word_num: zipf's law 的參數之一\n",
    "* num_word_in_fake_scrip: 輸出的假文本總共有多少單詞\n",
    "* alpha: Zipf's law 的參數之二\n",
    "* noun: 只選roc2.txt(中研院詞庫)中的名詞與否"
   ]
  },
  {
   "cell_type": "code",
   "execution_count": 12,
   "metadata": {
    "collapsed": false
   },
   "outputs": [
    {
     "name": "stdout",
     "output_type": "stream",
     "text": [
      "A Zipfs' generator is initiated.\n",
      "words in a corpus:  64878\n",
      "A corpus is successfully loaded.\n",
      "A fake script is successfully created !\n",
      "--------------------\n"
     ]
    }
   ],
   "source": [
    "read_file_generate_fake(char_num = 1, out_file =  'DEC16FAKE1_2.txt', sample_word_num = 8000,\n",
    "                            num_word_in_fake_scrip = 20000, \n",
    "                            alpha = 1.00001, noun = False)"
   ]
  },
  {
   "cell_type": "code",
   "execution_count": 6,
   "metadata": {
    "collapsed": false
   },
   "outputs": [
    {
     "name": "stdout",
     "output_type": "stream",
     "text": [
      "words in a corpus:  16219\n",
      "A corpus is successfully loaded.\n",
      "A fake script is successfully created !\n",
      "--------------------\n"
     ]
    }
   ],
   "source": [
    "read_file_generate_fake(char_num = 4, out_file =  'DEC16FAKE4_2.txt', sample_word_num = 8000,\n",
    "                            num_word_in_fake_scrip = 20000, \n",
    "                            alpha = 1.00001, noun = False)"
   ]
  },
  {
   "cell_type": "code",
   "execution_count": 14,
   "metadata": {
    "collapsed": false
   },
   "outputs": [
    {
     "name": "stdout",
     "output_type": "stream",
     "text": [
      "A Zipfs' generator is initiated.\n",
      "words in a corpus:  32439\n",
      "A corpus is successfully loaded.\n",
      "A fake script is successfully created !\n",
      "--------------------\n"
     ]
    }
   ],
   "source": [
    "read_file_generate_fake(char_num = 2, out_file =  'DEC16FAKE2_2.txt', sample_word_num = 8000,\n",
    "                            num_word_in_fake_scrip = 20000, \n",
    "                            alpha = 1.00001, noun = False)"
   ]
  },
  {
   "cell_type": "code",
   "execution_count": 15,
   "metadata": {
    "collapsed": false
   },
   "outputs": [
    {
     "name": "stdout",
     "output_type": "stream",
     "text": [
      "A Zipfs' generator is initiated.\n",
      "words in a corpus:  21626\n",
      "A corpus is successfully loaded.\n",
      "A fake script is successfully created !\n",
      "--------------------\n"
     ]
    }
   ],
   "source": [
    "read_file_generate_fake(char_num = 3, out_file =  'DEC16FAKE3_2.txt', sample_word_num = 8000,\n",
    "                            num_word_in_fake_scrip = 20000, \n",
    "                            alpha = 1.00001, noun = False)"
   ]
  },
  {
   "cell_type": "code",
   "execution_count": 16,
   "metadata": {
    "collapsed": false
   },
   "outputs": [
    {
     "name": "stdout",
     "output_type": "stream",
     "text": [
      "A Zipfs' generator is initiated.\n",
      "words in a corpus:  12975\n",
      "A corpus is successfully loaded.\n",
      "A fake script is successfully created !\n",
      "--------------------\n"
     ]
    }
   ],
   "source": [
    "read_file_generate_fake(char_num = 5, out_file =  'DEC16FAKE5_2.txt', sample_word_num = 8000,\n",
    "                            num_word_in_fake_scrip = 20000, \n",
    "                            alpha = 1.00001, noun = False)"
   ]
  },
  {
   "cell_type": "code",
   "execution_count": 7,
   "metadata": {
    "collapsed": false
   },
   "outputs": [
    {
     "name": "stdout",
     "output_type": "stream",
     "text": [
      "Read file successfully!\n",
      "Successfully count word freqency!\n",
      "Successfully count char freqency!\n",
      "Successfully build data frames!\n"
     ]
    }
   ],
   "source": [
    "#encode = \"UTF-16\" #(1)\n",
    "encode = \"UTF-8\"   #(2)\n",
    "##if anything gets into trouble, use (1) instead of (2), and vise versa.\n",
    "filename = 'DEC16FAKE4_2.txt' #change filename if you want to get statictical information of another\n",
    "##text file.\n",
    "big, char, word = main(filename,encode) "
   ]
  },
  {
   "cell_type": "code",
   "execution_count": 8,
   "metadata": {
    "collapsed": false
   },
   "outputs": [
    {
     "name": "stdout",
     "output_type": "stream",
     "text": [
      "charRank  ratio:  [ 0.83243048  0.86724512  0.89694847  0.91857223  0.89981785  0.92510121\n",
      "  0.92997812  0.93960784  0.95325543  0.94045534  0.95716946  0.95330739\n",
      "  0.96326531  0.95127119  0.95100223  0.96252927  0.95863747  0.95685279\n",
      "  0.96419098  0.96286107  0.97571429  0.95900439  0.9740458   0.97021944\n",
      "  0.9628433   0.95805369  0.97723292  0.96953405  0.97042514  0.97904762\n",
      "  0.97859922  0.95626243  0.97713098  0.96382979  0.98233996  0.97752809\n",
      "  0.97701149  0.96705882  0.98296837  0.97772277  0.97721519  0.98186528\n",
      "  0.97097625  0.9701087   0.98879552  0.97733711  0.9942029   0.9941691\n",
      "  0.96774194  0.98181818  0.98765432  0.975       0.98717949  0.98701299\n",
      "  0.97697368  0.97979798  0.97938144  0.97192982  0.98555957  0.97802198\n",
      "  0.98876404  0.98106061  0.98841699  0.9765625   0.98        0.9877551\n",
      "  0.98760331  0.9958159   0.98739496]\n",
      "std=  0.0283592637534\n"
     ]
    },
    {
     "data": {
      "text/plain": [
       "array([  2.76900000e+03,   8.32430480e-01,   8.67245119e-01,\n",
       "         8.96948474e-01,   9.18572225e-01,   8.99817851e-01,\n",
       "         9.25101215e-01,   9.29978118e-01,   9.39607843e-01,\n",
       "         9.53255426e-01,   9.40455342e-01,   9.57169460e-01,\n",
       "         9.53307393e-01,   9.63265306e-01,   9.51271186e-01,\n",
       "         9.51002227e-01,   9.62529274e-01,   9.58637470e-01,\n",
       "         9.56852792e-01,   9.64190981e-01,   9.62861073e-01,\n",
       "         9.75714286e-01,   9.59004392e-01,   9.74045802e-01,\n",
       "         9.70219436e-01,   9.62843296e-01,   9.58053691e-01,\n",
       "         9.77232925e-01,   9.69534050e-01,   9.70425139e-01,\n",
       "         9.79047619e-01,   9.78599222e-01,   9.56262425e-01,\n",
       "         9.77130977e-01,   9.63829787e-01,   9.82339956e-01,\n",
       "         9.77528090e-01,   9.77011494e-01,   9.67058824e-01,\n",
       "         9.82968370e-01,   9.77722772e-01,   9.77215190e-01,\n",
       "         9.81865285e-01,   9.70976253e-01,   9.70108696e-01,\n",
       "         9.88795518e-01,   9.77337110e-01,   9.94202899e-01,\n",
       "         9.94169096e-01,   9.67741935e-01,   9.81818182e-01,\n",
       "         9.87654321e-01,   9.75000000e-01,   9.87179487e-01,\n",
       "         9.87012987e-01,   9.76973684e-01,   9.79797980e-01,\n",
       "         9.79381443e-01,   9.71929825e-01,   9.85559567e-01,\n",
       "         9.78021978e-01,   9.88764045e-01,   9.81060606e-01,\n",
       "         9.88416988e-01,   9.76562500e-01,   9.80000000e-01,\n",
       "         9.87755102e-01,   9.87603306e-01,   9.95815900e-01,\n",
       "         9.87394958e-01,   4.25531915e-03])"
      ]
     },
     "execution_count": 8,
     "metadata": {},
     "output_type": "execute_result"
    }
   ],
   "source": [
    "check_const_ratio(char,\"charRank\",\"charFreq\")"
   ]
  },
  {
   "cell_type": "code",
   "execution_count": null,
   "metadata": {
    "collapsed": true
   },
   "outputs": [],
   "source": []
  }
 ],
 "metadata": {
  "anaconda-cloud": {},
  "kernelspec": {
   "display_name": "Python [default]",
   "language": "python",
   "name": "python3"
  },
  "language_info": {
   "codemirror_mode": {
    "name": "ipython",
    "version": 3
   },
   "file_extension": ".py",
   "mimetype": "text/x-python",
   "name": "python",
   "nbconvert_exporter": "python",
   "pygments_lexer": "ipython3",
   "version": "3.5.2"
  }
 },
 "nbformat": 4,
 "nbformat_minor": 0
}
