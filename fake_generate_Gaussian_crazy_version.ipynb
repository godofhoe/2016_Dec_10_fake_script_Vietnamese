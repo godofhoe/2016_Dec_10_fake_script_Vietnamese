{
 "cells": [
  {
   "cell_type": "markdown",
   "metadata": {},
   "source": [
    "## 從字庫裡面把字隨機挑出來組成二字詞或三字詞，然後強迫他們滿足Gaussian's law，之後用這些滿足Gaussian's law 的詞組成文本"
   ]
  },
  {
   "cell_type": "code",
   "execution_count": 1,
   "metadata": {
    "collapsed": true
   },
   "outputs": [],
   "source": [
    "import random \n",
    "import bisect \n",
    "import math \n",
    "from functools import reduce\n",
    "import numpy as np\n",
    "import pandas as pd\n",
    "import matplotlib.pyplot as plt\n",
    "from count import *\n",
    "#from zipfgen import ZipfGenerator\n",
    "%matplotlib inline"
   ]
  },
  {
   "cell_type": "code",
   "execution_count": 2,
   "metadata": {
    "collapsed": true
   },
   "outputs": [],
   "source": [
    "class GaussianGenerator: \n",
    "    \"\"\"\n",
    "    GaussianGenerator is an immutable type representing a Gaussian CDF\n",
    "    with patameters sigma and n; centre located at 1.0   \n",
    "\n",
    "    \"\"\"\n",
    "\n",
    "    \n",
    "    def __init__(self, n, sigma , mu = 20.0): \n",
    "        \"\"\"Ininitialize a Gaussian CDF.\n",
    "         Paramerters\n",
    "         n: int \n",
    "            n >= 0\n",
    "         \n",
    "         sigma: float \n",
    "            sigma >= 1\n",
    "            \n",
    "         mu: float\n",
    "        \"\"\"\n",
    "        # Calculate non-normalized cumulative values from 1 to n: \n",
    "        assert n >= 0 and sigma >= 1.0\n",
    "        assert int(n) == n \n",
    "        self.n = n\n",
    "        self.sigma = sigma\n",
    "        self.mu = mu\n",
    "        tmp = [math.exp(-(i - mu)**2 / (2 * sigma**2)) for i in range(1, n+1)] \n",
    "        zeta = reduce(lambda sums, x: sums + [sums[-1] + x], tmp, [0]) \n",
    "\n",
    "        # Store the translation map: \n",
    "        # Abstract function: representing the cumulative distribution function \n",
    "        # of a Gaussian pmf \n",
    "        self.distMap = [x / zeta[-1] for x in zeta] \n",
    "\n",
    "    def next(self): \n",
    "        \"\"\"Yield an integer between 0 and n, with probability governed by \n",
    "        Zipf distribution function specified by n and alpha.\n",
    "        \"\"\"\n",
    "        # Take a uniform 0-1 pseudo-random value: \n",
    "        u = random.random()  \n",
    "\n",
    "        # Translate the Zipf variable: \n",
    "        return bisect.bisect(self.distMap, u) - 1\n",
    "    \n",
    "    def __get_alpha(self):\n",
    "        ans = self.alpha\n",
    "        return ans\n",
    "    \n",
    "    def __get_n(self):\n",
    "        ans = self.n\n",
    "        return ans\n",
    "\n"
   ]
  },
  {
   "cell_type": "code",
   "execution_count": 3,
   "metadata": {
    "collapsed": true
   },
   "outputs": [],
   "source": [
    "def check_const_ratio(data, feature= \"wordRank\", criteria = \"wordFreq\",max_range = 200):\n",
    "    \"\"\"Calculate the ratios of date in the feature column\n",
    "    \n",
    "    Parameters:\n",
    "    ---\n",
    "    data: numpy.DataFrame\n",
    "        a data frame contains information about word stats.\n",
    "    \n",
    "    feature: string\n",
    "        feature to be oberved\n",
    "    \n",
    "    max_range: int \n",
    "        the maximum lenth of wordRank to be covered\n",
    "                \n",
    "        \n",
    "    \n",
    "    Returns\n",
    "    ---\n",
    "    new: numpy.array\n",
    "        a numpy array containing rotios of the data satisfying Ming's criteria in the feature column.\n",
    "    \n",
    "    \"\"\"\n",
    "    np_array = np.array([])\n",
    "    \n",
    "    for i in range(1,max_range):\n",
    "        dd = data[data[criteria] == i]\n",
    "        if dd.empty: break\n",
    "        else:\n",
    "            tmp = np.array(dd.tail(1)[feature])\n",
    "            np_array = np.append(np_array,tmp)\n",
    "        \n",
    "    numer_array = np.append(np_array,[1])\n",
    "    denom_array = np.append([1],np_array)\n",
    "    new = numer_array / denom_array\n",
    "    print(feature, \" ratio: \",new[1:-1])\n",
    "    print(\"std= \",new[1:-1].std())\n",
    "    return new"
   ]
  },
  {
   "cell_type": "code",
   "execution_count": 4,
   "metadata": {
    "collapsed": false
   },
   "outputs": [],
   "source": [
    "def read_file_generate_fake(char_num = 2, out_file =  'fake1.txt', sample_word_num = 8000,\n",
    "                            num_word_in_fake_scrip = 15000, \n",
    "                            alpha = 1.00001, noun = False):\n",
    "    \"\"\"Read \"roc2.txt\" file, and then generate a fake script satisfying Zipfs' law. All the words in \n",
    "    the output script share the same lenth char_num\n",
    "    \"\"\"\n",
    "    SAMPLE_WORD_NUM = sample_word_num\n",
    "    ALPHA = alpha\n",
    "    NUM_WORD_IN_NOV = num_word_in_fake_scrip\n",
    "    OUTPUT_FILE_NAME = out_file\n",
    "    NOUN = noun\n",
    "    CHAR_NUM = char_num\n",
    "    \n",
    "    gau_gen =  GaussianGenerator(SAMPLE_WORD_NUM,ALPHA)\n",
    "    f =  open(\"roc2.txt\",\"r\")\n",
    "\n",
    "    world_list = []\n",
    "    \n",
    "    for line in f:\n",
    "        line_split = line.split(\"\\t\")\n",
    "        if NOUN:\n",
    "            if 'N' in line_split[4]:\n",
    "                world_list.append(line_split[3])\n",
    "        else:\n",
    "            #if len(line_split[3]) == CHAR_NUM:\n",
    "                world_list.append(line_split[3])\n",
    "\n",
    "    f.close()\n",
    "    \n",
    "    for item in world_list:\n",
    "        if item == \" \":\n",
    "            world_list.remove(item)\n",
    "    #######################################\n",
    "    ###these codes are optional \n",
    "    \n",
    "    tmp_list = []\n",
    "    for item in world_list:\n",
    "        for e in list(item):\n",
    "            tmp_list.append(e)\n",
    "    random.shuffle(tmp_list)\n",
    "    list_2 = []\n",
    "    tmp = ''\n",
    "    for e in tmp_list:\n",
    "        tmp = tmp + e\n",
    "        if len(tmp) == char_num:\n",
    "            list_2.append(tmp)\n",
    "            tmp = ''\n",
    "    \n",
    "    world_list = list_2\n",
    "\n",
    "    print(\"words in a corpus: \" ,len(world_list))\n",
    "    \n",
    "    \n",
    "    #######################################\n",
    "\n",
    "\n",
    "    print(\"A corpus is successfully loaded.\")\n",
    "    \n",
    "    random.shuffle(world_list)\n",
    "    small_world_list = world_list[-SAMPLE_WORD_NUM:]\n",
    "    target_string_list = []\n",
    "\n",
    "    for i in range(NUM_WORD_IN_NOV):\n",
    "        num = gau_gen.next()\n",
    "        w = small_world_list[num]\n",
    "        target_string_list.append(w+\" \")\n",
    "        \n",
    "    f2 = open(OUTPUT_FILE_NAME , 'w')\n",
    "\n",
    "    word_count = 0\n",
    "    for item in target_string_list:\n",
    "        if word_count < 20:\n",
    "            f2.write(item)\n",
    "            word_count += 1\n",
    "        else:\n",
    "            word_count = 0\n",
    "            f2.write(item+\"\\n\")\n",
    "    f2.close()\n",
    "    print(\"A fake script is successfully created !\")\n",
    "    print(\"--------------------\")\n",
    "    return None"
   ]
  },
  {
   "cell_type": "markdown",
   "metadata": {},
   "source": [
    "## 改動不同的參數以產生你想要的文本\n",
    "#### 參數解釋：\n",
    "* char_num: 假文本裡面每個單詞的字數\n",
    "* out_file: 輸出的假文本的檔名\n",
    "* sample_word_num: zipf's law 的參數之一\n",
    "* num_word_in_fake_scrip: 輸出的假文本總共有多少單詞\n",
    "* alpha: Zipf's law 的參數之二\n",
    "* noun: 只選roc2.txt(中研院詞庫)中的名詞與否"
   ]
  },
  {
   "cell_type": "code",
   "execution_count": 5,
   "metadata": {
    "collapsed": false
   },
   "outputs": [
    {
     "name": "stdout",
     "output_type": "stream",
     "text": [
      "words in a corpus:  32439\n",
      "A corpus is successfully loaded.\n",
      "A fake script is successfully created !\n",
      "--------------------\n"
     ]
    }
   ],
   "source": [
    "read_file_generate_fake(char_num = 2, out_file =  'JAN10FAKE1.txt', sample_word_num = 12000,\n",
    "                            num_word_in_fake_scrip = 200000, \n",
    "                            alpha = 120.0, noun = False)"
   ]
  },
  {
   "cell_type": "code",
   "execution_count": 6,
   "metadata": {
    "collapsed": false
   },
   "outputs": [
    {
     "name": "stdout",
     "output_type": "stream",
     "text": [
      "Read file successfully!\n",
      "Successfully count word freqency!\n",
      "Successfully count char freqency!\n",
      "Successfully build data frames!\n"
     ]
    }
   ],
   "source": [
    "#encode = \"UTF-16\" #(1)\n",
    "encode = \"UTF-8\"   #(2)\n",
    "##if anything gets into trouble, use (1) instead of (2), and vise versa.\n",
    "filename = 'JAN10FAKE1.txt' #change filename if you want to get statictical information of another\n",
    "##text file.\n",
    "big, char, word = main(filename,encode) "
   ]
  },
  {
   "cell_type": "code",
   "execution_count": 7,
   "metadata": {
    "collapsed": false,
    "scrolled": true
   },
   "outputs": [
    {
     "data": {
      "text/plain": [
       "[<matplotlib.lines.Line2D at 0x7fcbbb9acef0>]"
      ]
     },
     "execution_count": 7,
     "metadata": {},
     "output_type": "execute_result"
    },
    {
     "data": {
      "image/png": "[encoded data removed]",
      "text/plain": [
       "<matplotlib.figure.Figure at 0x7fcbbb9ace80>"
      ]
     },
     "metadata": {},
     "output_type": "display_data"
    }
   ],
   "source": [
    "xx = big[\"1th_char_rank\"]\n",
    "plt.title('charRank-WordRank')\n",
    "plt.plot(xx,'ro')"
   ]
  },
  {
   "cell_type": "code",
   "execution_count": 8,
   "metadata": {
    "collapsed": false
   },
   "outputs": [
    {
     "data": {
      "text/plain": [
       "<matplotlib.colorbar.Colorbar at 0x7fcbba928b70>"
      ]
     },
     "execution_count": 8,
     "metadata": {},
     "output_type": "execute_result"
    },
    {
     "data": {
      "image/png": "[encoded data removed]",
      "text/plain": [
       "<matplotlib.figure.Figure at 0x7fcbbb8f6208>"
      ]
     },
     "metadata": {},
     "output_type": "display_data"
    }
   ],
   "source": [
    "x = big[\"0th_char_rank\"]\n",
    "y = np.arange(len(x))\n",
    "plt.hist2d(x,y, 6, cmap=plt.cm.jet)\n",
    "plt.colorbar()"
   ]
  },
  {
   "cell_type": "code",
   "execution_count": 9,
   "metadata": {
    "collapsed": false
   },
   "outputs": [
    {
     "data": {
      "text/plain": [
       "[<matplotlib.lines.Line2D at 0x7fcbb8ab42e8>]"
      ]
     },
     "execution_count": 9,
     "metadata": {},
     "output_type": "execute_result"
    },
    {
     "data": {
      "image/png": "[encoded data removed]",
      "text/plain": [
       "<matplotlib.figure.Figure at 0x7fcbbb877e80>"
      ]
     },
     "metadata": {},
     "output_type": "display_data"
    }
   ],
   "source": [
    "yy = word['wordFreq']\n",
    "plt.yscale('log')\n",
    "#plt.xscale('log')\n",
    "plt.plot(yy,'ro')"
   ]
  },
  {
   "cell_type": "code",
   "execution_count": 10,
   "metadata": {
    "collapsed": false
   },
   "outputs": [
    {
     "name": "stdout",
     "output_type": "stream",
     "text": [
      "wordRank  ratio:  [ 0.94178794  0.97350993  0.97505669  0.9744186   0.98329356  0.98543689\n",
      "  0.98522167  0.9975      0.98746867  0.99746193  0.98727735  0.9871134\n",
      "  0.99477807  0.98425197  0.992       0.99731183  0.99460916  0.99728997\n",
      "  0.99184783  0.9890411   0.99722992  0.98888889  0.99438202  0.99152542\n",
      "  0.997151    0.99714286  0.99426934  0.99711816  0.99421965]\n",
      "std=  0.0112678642028\n"
     ]
    },
    {
     "data": {
      "text/plain": [
       "array([  4.81000000e+02,   9.41787942e-01,   9.73509934e-01,\n",
       "         9.75056689e-01,   9.74418605e-01,   9.83293556e-01,\n",
       "         9.85436893e-01,   9.85221675e-01,   9.97500000e-01,\n",
       "         9.87468672e-01,   9.97461929e-01,   9.87277354e-01,\n",
       "         9.87113402e-01,   9.94778068e-01,   9.84251969e-01,\n",
       "         9.92000000e-01,   9.97311828e-01,   9.94609164e-01,\n",
       "         9.97289973e-01,   9.91847826e-01,   9.89041096e-01,\n",
       "         9.97229917e-01,   9.88888889e-01,   9.94382022e-01,\n",
       "         9.91525424e-01,   9.97150997e-01,   9.97142857e-01,\n",
       "         9.94269341e-01,   9.97118156e-01,   9.94219653e-01,\n",
       "         2.90697674e-03])"
      ]
     },
     "execution_count": 10,
     "metadata": {},
     "output_type": "execute_result"
    }
   ],
   "source": [
    "check_const_ratio(word)\n"
   ]
  },
  {
   "cell_type": "code",
   "execution_count": null,
   "metadata": {
    "collapsed": true
   },
   "outputs": [],
   "source": []
  }
 ],
 "metadata": {
  "anaconda-cloud": {},
  "kernelspec": {
   "display_name": "Python 3",
   "language": "python",
   "name": "python3"
  },
  "language_info": {
   "codemirror_mode": {
    "name": "ipython",
    "version": 3
   },
   "file_extension": ".py",
   "mimetype": "text/x-python",
   "name": "python",
   "nbconvert_exporter": "python",
   "pygments_lexer": "ipython3",
   "version": "3.5.1"
  }
 },
 "nbformat": 4,
 "nbformat_minor": 0
}
